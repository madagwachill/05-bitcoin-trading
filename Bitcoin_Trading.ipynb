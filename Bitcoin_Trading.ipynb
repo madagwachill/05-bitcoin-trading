{
 "cells": [
  {
   "cell_type": "code",
   "execution_count": 6,
   "metadata": {},
   "outputs": [],
   "source": [
    "import pandas as pd\n",
    "import numpy as np\n",
    "import matplotlib.pyplot as plt"
   ]
  },
  {
   "cell_type": "code",
   "execution_count": 7,
   "metadata": {},
   "outputs": [
    {
     "data": {
      "text/html": [
       "<div>\n",
       "<style scoped>\n",
       "    .dataframe tbody tr th:only-of-type {\n",
       "        vertical-align: middle;\n",
       "    }\n",
       "\n",
       "    .dataframe tbody tr th {\n",
       "        vertical-align: top;\n",
       "    }\n",
       "\n",
       "    .dataframe thead th {\n",
       "        text-align: right;\n",
       "    }\n",
       "</style>\n",
       "<table border=\"1\" class=\"dataframe\">\n",
       "  <thead>\n",
       "    <tr style=\"text-align: right;\">\n",
       "      <th></th>\n",
       "      <th>Timestamp</th>\n",
       "      <th>Open</th>\n",
       "      <th>High</th>\n",
       "      <th>Low</th>\n",
       "      <th>Close</th>\n",
       "      <th>Volume_(BTC)</th>\n",
       "      <th>Volume_(Currency)</th>\n",
       "      <th>Weighted_Price</th>\n",
       "    </tr>\n",
       "  </thead>\n",
       "  <tbody>\n",
       "    <tr>\n",
       "      <th>0</th>\n",
       "      <td>1325317920</td>\n",
       "      <td>4.39</td>\n",
       "      <td>4.39</td>\n",
       "      <td>4.39</td>\n",
       "      <td>4.39</td>\n",
       "      <td>0.455581</td>\n",
       "      <td>2.0</td>\n",
       "      <td>4.39</td>\n",
       "    </tr>\n",
       "    <tr>\n",
       "      <th>1</th>\n",
       "      <td>1325317980</td>\n",
       "      <td>NaN</td>\n",
       "      <td>NaN</td>\n",
       "      <td>NaN</td>\n",
       "      <td>NaN</td>\n",
       "      <td>NaN</td>\n",
       "      <td>NaN</td>\n",
       "      <td>NaN</td>\n",
       "    </tr>\n",
       "    <tr>\n",
       "      <th>2</th>\n",
       "      <td>1325318040</td>\n",
       "      <td>NaN</td>\n",
       "      <td>NaN</td>\n",
       "      <td>NaN</td>\n",
       "      <td>NaN</td>\n",
       "      <td>NaN</td>\n",
       "      <td>NaN</td>\n",
       "      <td>NaN</td>\n",
       "    </tr>\n",
       "    <tr>\n",
       "      <th>3</th>\n",
       "      <td>1325318100</td>\n",
       "      <td>NaN</td>\n",
       "      <td>NaN</td>\n",
       "      <td>NaN</td>\n",
       "      <td>NaN</td>\n",
       "      <td>NaN</td>\n",
       "      <td>NaN</td>\n",
       "      <td>NaN</td>\n",
       "    </tr>\n",
       "    <tr>\n",
       "      <th>4</th>\n",
       "      <td>1325318160</td>\n",
       "      <td>NaN</td>\n",
       "      <td>NaN</td>\n",
       "      <td>NaN</td>\n",
       "      <td>NaN</td>\n",
       "      <td>NaN</td>\n",
       "      <td>NaN</td>\n",
       "      <td>NaN</td>\n",
       "    </tr>\n",
       "  </tbody>\n",
       "</table>\n",
       "</div>"
      ],
      "text/plain": [
       "    Timestamp  Open  High   Low  Close  Volume_(BTC)  Volume_(Currency)  \\\n",
       "0  1325317920  4.39  4.39  4.39   4.39      0.455581                2.0   \n",
       "1  1325317980   NaN   NaN   NaN    NaN           NaN                NaN   \n",
       "2  1325318040   NaN   NaN   NaN    NaN           NaN                NaN   \n",
       "3  1325318100   NaN   NaN   NaN    NaN           NaN                NaN   \n",
       "4  1325318160   NaN   NaN   NaN    NaN           NaN                NaN   \n",
       "\n",
       "   Weighted_Price  \n",
       "0            4.39  \n",
       "1             NaN  \n",
       "2             NaN  \n",
       "3             NaN  \n",
       "4             NaN  "
      ]
     },
     "metadata": {},
     "output_type": "display_data"
    }
   ],
   "source": [
    "df = pd.read_csv('bitstampUSD_1-min_data_2012-01-01_to_2020-09-14.csv')\n",
    "display(df.head())"
   ]
  },
  {
   "cell_type": "code",
   "execution_count": 8,
   "metadata": {},
   "outputs": [],
   "source": [
    "# Make a copy of the datasetwith which to work with\n",
    "bitcoin_df = df.copy()"
   ]
  },
  {
   "cell_type": "code",
   "execution_count": 9,
   "metadata": {
    "scrolled": false
   },
   "outputs": [
    {
     "name": "stdout",
     "output_type": "stream",
     "text": [
      "<class 'pandas.core.frame.DataFrame'>\n",
      "RangeIndex: 4572257 entries, 0 to 4572256\n",
      "Data columns (total 8 columns):\n",
      "Timestamp            int64\n",
      "Open                 float64\n",
      "High                 float64\n",
      "Low                  float64\n",
      "Close                float64\n",
      "Volume_(BTC)         float64\n",
      "Volume_(Currency)    float64\n",
      "Weighted_Price       float64\n",
      "dtypes: float64(7), int64(1)\n",
      "memory usage: 279.1 MB\n"
     ]
    }
   ],
   "source": [
    "# check the datatype to be sure they are in the right format for time series forecasting\n",
    "bitcoin_df.info()"
   ]
  },
  {
   "cell_type": "code",
   "execution_count": 10,
   "metadata": {},
   "outputs": [
    {
     "name": "stdout",
     "output_type": "stream",
     "text": [
      "<class 'pandas.core.frame.DataFrame'>\n",
      "RangeIndex: 4572257 entries, 0 to 4572256\n",
      "Data columns (total 8 columns):\n",
      "Timestamp            datetime64[ns]\n",
      "Open                 float64\n",
      "High                 float64\n",
      "Low                  float64\n",
      "Close                float64\n",
      "Volume_(BTC)         float64\n",
      "Volume_(Currency)    float64\n",
      "Weighted_Price       float64\n",
      "dtypes: datetime64[ns](1), float64(7)\n",
      "memory usage: 279.1 MB\n"
     ]
    }
   ],
   "source": [
    "# lets convert the time stamp column into a datetime format\n",
    "bitcoin_df['Timestamp'] = pd.to_datetime(bitcoin_df['Timestamp'], unit='s', infer_datetime_format=True)\n",
    "bitcoin_df.info()"
   ]
  },
  {
   "cell_type": "code",
   "execution_count": 11,
   "metadata": {},
   "outputs": [
    {
     "data": {
      "text/plain": [
       "Timestamp                  0\n",
       "Open                 1241716\n",
       "High                 1241716\n",
       "Low                  1241716\n",
       "Close                1241716\n",
       "Volume_(BTC)         1241716\n",
       "Volume_(Currency)    1241716\n",
       "Weighted_Price       1241716\n",
       "dtype: int64"
      ]
     },
     "execution_count": 11,
     "metadata": {},
     "output_type": "execute_result"
    }
   ],
   "source": [
    "# check for the sum of missing values in each column in the dataset\n",
    "bitcoin_df.isnull().sum()"
   ]
  },
  {
   "cell_type": "code",
   "execution_count": 12,
   "metadata": {},
   "outputs": [
    {
     "data": {
      "text/html": [
       "<div>\n",
       "<style scoped>\n",
       "    .dataframe tbody tr th:only-of-type {\n",
       "        vertical-align: middle;\n",
       "    }\n",
       "\n",
       "    .dataframe tbody tr th {\n",
       "        vertical-align: top;\n",
       "    }\n",
       "\n",
       "    .dataframe thead th {\n",
       "        text-align: right;\n",
       "    }\n",
       "</style>\n",
       "<table border=\"1\" class=\"dataframe\">\n",
       "  <thead>\n",
       "    <tr style=\"text-align: right;\">\n",
       "      <th></th>\n",
       "      <th>Timestamp</th>\n",
       "      <th>Open</th>\n",
       "      <th>High</th>\n",
       "      <th>Low</th>\n",
       "      <th>Close</th>\n",
       "      <th>Volume_(BTC)</th>\n",
       "      <th>Volume_(Currency)</th>\n",
       "      <th>Weighted_Price</th>\n",
       "    </tr>\n",
       "  </thead>\n",
       "  <tbody>\n",
       "    <tr>\n",
       "      <th>0</th>\n",
       "      <td>2011-12-31 07:52:00</td>\n",
       "      <td>4.39</td>\n",
       "      <td>4.39</td>\n",
       "      <td>4.39</td>\n",
       "      <td>4.39</td>\n",
       "      <td>0.455581</td>\n",
       "      <td>2.0</td>\n",
       "      <td>4.39</td>\n",
       "    </tr>\n",
       "    <tr>\n",
       "      <th>1</th>\n",
       "      <td>2011-12-31 07:53:00</td>\n",
       "      <td>4.39</td>\n",
       "      <td>4.39</td>\n",
       "      <td>4.39</td>\n",
       "      <td>4.39</td>\n",
       "      <td>0.455581</td>\n",
       "      <td>2.0</td>\n",
       "      <td>4.39</td>\n",
       "    </tr>\n",
       "    <tr>\n",
       "      <th>2</th>\n",
       "      <td>2011-12-31 07:54:00</td>\n",
       "      <td>4.39</td>\n",
       "      <td>4.39</td>\n",
       "      <td>4.39</td>\n",
       "      <td>4.39</td>\n",
       "      <td>0.455581</td>\n",
       "      <td>2.0</td>\n",
       "      <td>4.39</td>\n",
       "    </tr>\n",
       "    <tr>\n",
       "      <th>3</th>\n",
       "      <td>2011-12-31 07:55:00</td>\n",
       "      <td>4.39</td>\n",
       "      <td>4.39</td>\n",
       "      <td>4.39</td>\n",
       "      <td>4.39</td>\n",
       "      <td>0.455581</td>\n",
       "      <td>2.0</td>\n",
       "      <td>4.39</td>\n",
       "    </tr>\n",
       "    <tr>\n",
       "      <th>4</th>\n",
       "      <td>2011-12-31 07:56:00</td>\n",
       "      <td>4.39</td>\n",
       "      <td>4.39</td>\n",
       "      <td>4.39</td>\n",
       "      <td>4.39</td>\n",
       "      <td>0.455581</td>\n",
       "      <td>2.0</td>\n",
       "      <td>4.39</td>\n",
       "    </tr>\n",
       "  </tbody>\n",
       "</table>\n",
       "</div>"
      ],
      "text/plain": [
       "            Timestamp  Open  High   Low  Close  Volume_(BTC)  \\\n",
       "0 2011-12-31 07:52:00  4.39  4.39  4.39   4.39      0.455581   \n",
       "1 2011-12-31 07:53:00  4.39  4.39  4.39   4.39      0.455581   \n",
       "2 2011-12-31 07:54:00  4.39  4.39  4.39   4.39      0.455581   \n",
       "3 2011-12-31 07:55:00  4.39  4.39  4.39   4.39      0.455581   \n",
       "4 2011-12-31 07:56:00  4.39  4.39  4.39   4.39      0.455581   \n",
       "\n",
       "   Volume_(Currency)  Weighted_Price  \n",
       "0                2.0            4.39  \n",
       "1                2.0            4.39  \n",
       "2                2.0            4.39  \n",
       "3                2.0            4.39  \n",
       "4                2.0            4.39  "
      ]
     },
     "metadata": {},
     "output_type": "display_data"
    }
   ],
   "source": [
    "# fill the missing values with the previous values \n",
    "bitcoin_df = bitcoin_df.ffill(axis=0)\n",
    "display(bitcoin_df.head())"
   ]
  },
  {
   "cell_type": "code",
   "execution_count": 13,
   "metadata": {},
   "outputs": [
    {
     "data": {
      "text/plain": [
       "(4572257, 8)"
      ]
     },
     "execution_count": 13,
     "metadata": {},
     "output_type": "execute_result"
    }
   ],
   "source": [
    "bitcoin_df.shape"
   ]
  },
  {
   "cell_type": "code",
   "execution_count": 14,
   "metadata": {},
   "outputs": [
    {
     "data": {
      "text/html": [
       "<div>\n",
       "<style scoped>\n",
       "    .dataframe tbody tr th:only-of-type {\n",
       "        vertical-align: middle;\n",
       "    }\n",
       "\n",
       "    .dataframe tbody tr th {\n",
       "        vertical-align: top;\n",
       "    }\n",
       "\n",
       "    .dataframe thead th {\n",
       "        text-align: right;\n",
       "    }\n",
       "</style>\n",
       "<table border=\"1\" class=\"dataframe\">\n",
       "  <thead>\n",
       "    <tr style=\"text-align: right;\">\n",
       "      <th></th>\n",
       "      <th>Open</th>\n",
       "      <th>High</th>\n",
       "      <th>Low</th>\n",
       "      <th>Close</th>\n",
       "      <th>Volume_(BTC)</th>\n",
       "      <th>Volume_(Currency)</th>\n",
       "      <th>Weighted_Price</th>\n",
       "    </tr>\n",
       "  </thead>\n",
       "  <tbody>\n",
       "    <tr>\n",
       "      <th>count</th>\n",
       "      <td>4572257.00</td>\n",
       "      <td>4572257.00</td>\n",
       "      <td>4572257.00</td>\n",
       "      <td>4572257.00</td>\n",
       "      <td>4572257.00</td>\n",
       "      <td>4572257.00</td>\n",
       "      <td>4572257.00</td>\n",
       "    </tr>\n",
       "    <tr>\n",
       "      <th>mean</th>\n",
       "      <td>3077.54</td>\n",
       "      <td>3079.63</td>\n",
       "      <td>3075.32</td>\n",
       "      <td>3077.51</td>\n",
       "      <td>9.70</td>\n",
       "      <td>22674.18</td>\n",
       "      <td>3077.51</td>\n",
       "    </tr>\n",
       "    <tr>\n",
       "      <th>std</th>\n",
       "      <td>3905.41</td>\n",
       "      <td>3908.46</td>\n",
       "      <td>3902.10</td>\n",
       "      <td>3905.35</td>\n",
       "      <td>31.43</td>\n",
       "      <td>92347.29</td>\n",
       "      <td>3905.36</td>\n",
       "    </tr>\n",
       "    <tr>\n",
       "      <th>min</th>\n",
       "      <td>3.80</td>\n",
       "      <td>3.80</td>\n",
       "      <td>1.50</td>\n",
       "      <td>1.50</td>\n",
       "      <td>0.00</td>\n",
       "      <td>0.00</td>\n",
       "      <td>3.80</td>\n",
       "    </tr>\n",
       "    <tr>\n",
       "      <th>25%</th>\n",
       "      <td>237.00</td>\n",
       "      <td>237.06</td>\n",
       "      <td>236.92</td>\n",
       "      <td>237.00</td>\n",
       "      <td>0.39</td>\n",
       "      <td>126.14</td>\n",
       "      <td>237.00</td>\n",
       "    </tr>\n",
       "    <tr>\n",
       "      <th>50%</th>\n",
       "      <td>632.48</td>\n",
       "      <td>632.83</td>\n",
       "      <td>632.00</td>\n",
       "      <td>632.45</td>\n",
       "      <td>1.98</td>\n",
       "      <td>1061.02</td>\n",
       "      <td>632.43</td>\n",
       "    </tr>\n",
       "    <tr>\n",
       "      <th>75%</th>\n",
       "      <td>6409.23</td>\n",
       "      <td>6410.82</td>\n",
       "      <td>6407.72</td>\n",
       "      <td>6409.39</td>\n",
       "      <td>7.71</td>\n",
       "      <td>10400.00</td>\n",
       "      <td>6409.26</td>\n",
       "    </tr>\n",
       "    <tr>\n",
       "      <th>max</th>\n",
       "      <td>19665.76</td>\n",
       "      <td>19666.00</td>\n",
       "      <td>19649.96</td>\n",
       "      <td>19665.75</td>\n",
       "      <td>5853.85</td>\n",
       "      <td>10445987.79</td>\n",
       "      <td>19663.30</td>\n",
       "    </tr>\n",
       "  </tbody>\n",
       "</table>\n",
       "</div>"
      ],
      "text/plain": [
       "             Open        High         Low       Close  Volume_(BTC)  \\\n",
       "count  4572257.00  4572257.00  4572257.00  4572257.00    4572257.00   \n",
       "mean      3077.54     3079.63     3075.32     3077.51          9.70   \n",
       "std       3905.41     3908.46     3902.10     3905.35         31.43   \n",
       "min          3.80        3.80        1.50        1.50          0.00   \n",
       "25%        237.00      237.06      236.92      237.00          0.39   \n",
       "50%        632.48      632.83      632.00      632.45          1.98   \n",
       "75%       6409.23     6410.82     6407.72     6409.39          7.71   \n",
       "max      19665.76    19666.00    19649.96    19665.75       5853.85   \n",
       "\n",
       "       Volume_(Currency)  Weighted_Price  \n",
       "count         4572257.00      4572257.00  \n",
       "mean            22674.18         3077.51  \n",
       "std             92347.29         3905.36  \n",
       "min                 0.00            3.80  \n",
       "25%               126.14          237.00  \n",
       "50%              1061.02          632.43  \n",
       "75%             10400.00         6409.26  \n",
       "max          10445987.79        19663.30  "
      ]
     },
     "execution_count": 14,
     "metadata": {},
     "output_type": "execute_result"
    }
   ],
   "source": [
    "# Now lets describe our data and also know the shape\n",
    "round(bitcoin_df.describe(), 2)"
   ]
  },
  {
   "cell_type": "code",
   "execution_count": 15,
   "metadata": {},
   "outputs": [
    {
     "data": {
      "text/plain": [
       "count                 4572257\n",
       "unique                4572257\n",
       "top       2020-04-19 16:11:00\n",
       "freq                        1\n",
       "first     2011-12-31 07:52:00\n",
       "last      2020-09-14 00:00:00\n",
       "Name: Timestamp, dtype: object"
      ]
     },
     "execution_count": 15,
     "metadata": {},
     "output_type": "execute_result"
    }
   ],
   "source": [
    "# we notice that the datetime column wasn't describe along side.\n",
    "bitcoin_df.Timestamp.describe()"
   ]
  },
  {
   "cell_type": "markdown",
   "metadata": {},
   "source": [
    "#### From the description we can tell the first, last and unique date on our dataset. This is cool because on time series analysis, it is important to have unique date when forecasting and since we are going to make it the index, it can also not be alter as well."
   ]
  },
  {
   "cell_type": "code",
   "execution_count": 16,
   "metadata": {},
   "outputs": [],
   "source": [
    "bitcoin_df.set_index('Timestamp', inplace= True)"
   ]
  },
  {
   "cell_type": "code",
   "execution_count": 17,
   "metadata": {},
   "outputs": [
    {
     "data": {
      "text/html": [
       "<div>\n",
       "<style scoped>\n",
       "    .dataframe tbody tr th:only-of-type {\n",
       "        vertical-align: middle;\n",
       "    }\n",
       "\n",
       "    .dataframe tbody tr th {\n",
       "        vertical-align: top;\n",
       "    }\n",
       "\n",
       "    .dataframe thead th {\n",
       "        text-align: right;\n",
       "    }\n",
       "</style>\n",
       "<table border=\"1\" class=\"dataframe\">\n",
       "  <thead>\n",
       "    <tr style=\"text-align: right;\">\n",
       "      <th></th>\n",
       "      <th>Open</th>\n",
       "      <th>High</th>\n",
       "      <th>Low</th>\n",
       "      <th>Close</th>\n",
       "      <th>Volume_(BTC)</th>\n",
       "      <th>Volume_(Currency)</th>\n",
       "      <th>Weighted_Price</th>\n",
       "    </tr>\n",
       "    <tr>\n",
       "      <th>Timestamp</th>\n",
       "      <th></th>\n",
       "      <th></th>\n",
       "      <th></th>\n",
       "      <th></th>\n",
       "      <th></th>\n",
       "      <th></th>\n",
       "      <th></th>\n",
       "    </tr>\n",
       "  </thead>\n",
       "  <tbody>\n",
       "    <tr>\n",
       "      <th>2011-12-31 07:52:00</th>\n",
       "      <td>4.39</td>\n",
       "      <td>4.39</td>\n",
       "      <td>4.39</td>\n",
       "      <td>4.39</td>\n",
       "      <td>0.455581</td>\n",
       "      <td>2.0</td>\n",
       "      <td>4.39</td>\n",
       "    </tr>\n",
       "    <tr>\n",
       "      <th>2011-12-31 07:53:00</th>\n",
       "      <td>4.39</td>\n",
       "      <td>4.39</td>\n",
       "      <td>4.39</td>\n",
       "      <td>4.39</td>\n",
       "      <td>0.455581</td>\n",
       "      <td>2.0</td>\n",
       "      <td>4.39</td>\n",
       "    </tr>\n",
       "    <tr>\n",
       "      <th>2011-12-31 07:54:00</th>\n",
       "      <td>4.39</td>\n",
       "      <td>4.39</td>\n",
       "      <td>4.39</td>\n",
       "      <td>4.39</td>\n",
       "      <td>0.455581</td>\n",
       "      <td>2.0</td>\n",
       "      <td>4.39</td>\n",
       "    </tr>\n",
       "    <tr>\n",
       "      <th>2011-12-31 07:55:00</th>\n",
       "      <td>4.39</td>\n",
       "      <td>4.39</td>\n",
       "      <td>4.39</td>\n",
       "      <td>4.39</td>\n",
       "      <td>0.455581</td>\n",
       "      <td>2.0</td>\n",
       "      <td>4.39</td>\n",
       "    </tr>\n",
       "    <tr>\n",
       "      <th>2011-12-31 07:56:00</th>\n",
       "      <td>4.39</td>\n",
       "      <td>4.39</td>\n",
       "      <td>4.39</td>\n",
       "      <td>4.39</td>\n",
       "      <td>0.455581</td>\n",
       "      <td>2.0</td>\n",
       "      <td>4.39</td>\n",
       "    </tr>\n",
       "  </tbody>\n",
       "</table>\n",
       "</div>"
      ],
      "text/plain": [
       "                     Open  High   Low  Close  Volume_(BTC)  Volume_(Currency)  \\\n",
       "Timestamp                                                                       \n",
       "2011-12-31 07:52:00  4.39  4.39  4.39   4.39      0.455581                2.0   \n",
       "2011-12-31 07:53:00  4.39  4.39  4.39   4.39      0.455581                2.0   \n",
       "2011-12-31 07:54:00  4.39  4.39  4.39   4.39      0.455581                2.0   \n",
       "2011-12-31 07:55:00  4.39  4.39  4.39   4.39      0.455581                2.0   \n",
       "2011-12-31 07:56:00  4.39  4.39  4.39   4.39      0.455581                2.0   \n",
       "\n",
       "                     Weighted_Price  \n",
       "Timestamp                            \n",
       "2011-12-31 07:52:00            4.39  \n",
       "2011-12-31 07:53:00            4.39  \n",
       "2011-12-31 07:54:00            4.39  \n",
       "2011-12-31 07:55:00            4.39  \n",
       "2011-12-31 07:56:00            4.39  "
      ]
     },
     "execution_count": 17,
     "metadata": {},
     "output_type": "execute_result"
    }
   ],
   "source": [
    "bitcoin_df.head()"
   ]
  },
  {
   "cell_type": "markdown",
   "metadata": {},
   "source": [
    "### RESAMPLING THE DATASET"
   ]
  },
  {
   "cell_type": "code",
   "execution_count": 18,
   "metadata": {},
   "outputs": [
    {
     "name": "stdout",
     "output_type": "stream",
     "text": [
      "Daily Data Table\n"
     ]
    },
    {
     "data": {
      "text/html": [
       "<div>\n",
       "<style scoped>\n",
       "    .dataframe tbody tr th:only-of-type {\n",
       "        vertical-align: middle;\n",
       "    }\n",
       "\n",
       "    .dataframe tbody tr th {\n",
       "        vertical-align: top;\n",
       "    }\n",
       "\n",
       "    .dataframe thead th {\n",
       "        text-align: right;\n",
       "    }\n",
       "</style>\n",
       "<table border=\"1\" class=\"dataframe\">\n",
       "  <thead>\n",
       "    <tr style=\"text-align: right;\">\n",
       "      <th></th>\n",
       "      <th>Open</th>\n",
       "      <th>High</th>\n",
       "      <th>Low</th>\n",
       "      <th>Close</th>\n",
       "      <th>Volume_(BTC)</th>\n",
       "      <th>Volume_(Currency)</th>\n",
       "      <th>Weighted_Price</th>\n",
       "    </tr>\n",
       "    <tr>\n",
       "      <th>Timestamp</th>\n",
       "      <th></th>\n",
       "      <th></th>\n",
       "      <th></th>\n",
       "      <th></th>\n",
       "      <th></th>\n",
       "      <th></th>\n",
       "      <th></th>\n",
       "    </tr>\n",
       "  </thead>\n",
       "  <tbody>\n",
       "    <tr>\n",
       "      <th>2011-12-31</th>\n",
       "      <td>4329.43</td>\n",
       "      <td>4329.50</td>\n",
       "      <td>4329.43</td>\n",
       "      <td>4329.50</td>\n",
       "      <td>7347.629953</td>\n",
       "      <td>32979.460347</td>\n",
       "      <td>4329.456411</td>\n",
       "    </tr>\n",
       "    <tr>\n",
       "      <th>2012-01-01</th>\n",
       "      <td>6740.32</td>\n",
       "      <td>6740.32</td>\n",
       "      <td>6740.32</td>\n",
       "      <td>6740.32</td>\n",
       "      <td>8440.844000</td>\n",
       "      <td>40113.415520</td>\n",
       "      <td>6740.320000</td>\n",
       "    </tr>\n",
       "    <tr>\n",
       "      <th>2012-01-02</th>\n",
       "      <td>7200.00</td>\n",
       "      <td>7200.00</td>\n",
       "      <td>7200.00</td>\n",
       "      <td>7200.00</td>\n",
       "      <td>16655.728000</td>\n",
       "      <td>83278.640000</td>\n",
       "      <td>7200.000000</td>\n",
       "    </tr>\n",
       "    <tr>\n",
       "      <th>2012-01-03</th>\n",
       "      <td>7410.12</td>\n",
       "      <td>7410.12</td>\n",
       "      <td>7410.12</td>\n",
       "      <td>7410.12</td>\n",
       "      <td>19448.819802</td>\n",
       "      <td>98964.563352</td>\n",
       "      <td>7410.120000</td>\n",
       "    </tr>\n",
       "    <tr>\n",
       "      <th>2012-01-04</th>\n",
       "      <td>7454.46</td>\n",
       "      <td>7529.37</td>\n",
       "      <td>7454.46</td>\n",
       "      <td>7529.37</td>\n",
       "      <td>24798.296265</td>\n",
       "      <td>131938.688442</td>\n",
       "      <td>7481.437933</td>\n",
       "    </tr>\n",
       "  </tbody>\n",
       "</table>\n",
       "</div>"
      ],
      "text/plain": [
       "               Open     High      Low    Close  Volume_(BTC)  \\\n",
       "Timestamp                                                      \n",
       "2011-12-31  4329.43  4329.50  4329.43  4329.50   7347.629953   \n",
       "2012-01-01  6740.32  6740.32  6740.32  6740.32   8440.844000   \n",
       "2012-01-02  7200.00  7200.00  7200.00  7200.00  16655.728000   \n",
       "2012-01-03  7410.12  7410.12  7410.12  7410.12  19448.819802   \n",
       "2012-01-04  7454.46  7529.37  7454.46  7529.37  24798.296265   \n",
       "\n",
       "            Volume_(Currency)  Weighted_Price  \n",
       "Timestamp                                      \n",
       "2011-12-31       32979.460347     4329.456411  \n",
       "2012-01-01       40113.415520     6740.320000  \n",
       "2012-01-02       83278.640000     7200.000000  \n",
       "2012-01-03       98964.563352     7410.120000  \n",
       "2012-01-04      131938.688442     7481.437933  "
      ]
     },
     "metadata": {},
     "output_type": "display_data"
    },
    {
     "name": "stdout",
     "output_type": "stream",
     "text": [
      "Weekly Data Table\n"
     ]
    },
    {
     "data": {
      "text/html": [
       "<div>\n",
       "<style scoped>\n",
       "    .dataframe tbody tr th:only-of-type {\n",
       "        vertical-align: middle;\n",
       "    }\n",
       "\n",
       "    .dataframe tbody tr th {\n",
       "        vertical-align: top;\n",
       "    }\n",
       "\n",
       "    .dataframe thead th {\n",
       "        text-align: right;\n",
       "    }\n",
       "</style>\n",
       "<table border=\"1\" class=\"dataframe\">\n",
       "  <thead>\n",
       "    <tr style=\"text-align: right;\">\n",
       "      <th></th>\n",
       "      <th>Open</th>\n",
       "      <th>High</th>\n",
       "      <th>Low</th>\n",
       "      <th>Close</th>\n",
       "      <th>Volume_(BTC)</th>\n",
       "      <th>Volume_(Currency)</th>\n",
       "      <th>Weighted_Price</th>\n",
       "    </tr>\n",
       "    <tr>\n",
       "      <th>Timestamp</th>\n",
       "      <th></th>\n",
       "      <th></th>\n",
       "      <th></th>\n",
       "      <th></th>\n",
       "      <th></th>\n",
       "      <th></th>\n",
       "      <th></th>\n",
       "    </tr>\n",
       "  </thead>\n",
       "  <tbody>\n",
       "    <tr>\n",
       "      <th>2012-01-01</th>\n",
       "      <td>11069.75</td>\n",
       "      <td>11069.82</td>\n",
       "      <td>11069.75</td>\n",
       "      <td>11069.82</td>\n",
       "      <td>15788.473953</td>\n",
       "      <td>73092.875867</td>\n",
       "      <td>11069.776411</td>\n",
       "    </tr>\n",
       "    <tr>\n",
       "      <th>2012-01-08</th>\n",
       "      <td>59047.18</td>\n",
       "      <td>59177.75</td>\n",
       "      <td>59047.18</td>\n",
       "      <td>59177.75</td>\n",
       "      <td>79019.860579</td>\n",
       "      <td>425840.691131</td>\n",
       "      <td>59099.431955</td>\n",
       "    </tr>\n",
       "    <tr>\n",
       "      <th>2012-01-15</th>\n",
       "      <td>67921.62</td>\n",
       "      <td>67946.76</td>\n",
       "      <td>67758.77</td>\n",
       "      <td>67784.05</td>\n",
       "      <td>24657.175254</td>\n",
       "      <td>170483.712958</td>\n",
       "      <td>67835.830854</td>\n",
       "    </tr>\n",
       "    <tr>\n",
       "      <th>2012-01-22</th>\n",
       "      <td>67655.68</td>\n",
       "      <td>67689.00</td>\n",
       "      <td>67655.14</td>\n",
       "      <td>67688.46</td>\n",
       "      <td>67709.322098</td>\n",
       "      <td>428620.726709</td>\n",
       "      <td>67665.808700</td>\n",
       "    </tr>\n",
       "    <tr>\n",
       "      <th>2012-01-29</th>\n",
       "      <td>60989.44</td>\n",
       "      <td>60990.40</td>\n",
       "      <td>60989.35</td>\n",
       "      <td>60990.31</td>\n",
       "      <td>31978.062449</td>\n",
       "      <td>200066.578641</td>\n",
       "      <td>60990.284709</td>\n",
       "    </tr>\n",
       "  </tbody>\n",
       "</table>\n",
       "</div>"
      ],
      "text/plain": [
       "                Open      High       Low     Close  Volume_(BTC)  \\\n",
       "Timestamp                                                          \n",
       "2012-01-01  11069.75  11069.82  11069.75  11069.82  15788.473953   \n",
       "2012-01-08  59047.18  59177.75  59047.18  59177.75  79019.860579   \n",
       "2012-01-15  67921.62  67946.76  67758.77  67784.05  24657.175254   \n",
       "2012-01-22  67655.68  67689.00  67655.14  67688.46  67709.322098   \n",
       "2012-01-29  60989.44  60990.40  60989.35  60990.31  31978.062449   \n",
       "\n",
       "            Volume_(Currency)  Weighted_Price  \n",
       "Timestamp                                      \n",
       "2012-01-01       73092.875867    11069.776411  \n",
       "2012-01-08      425840.691131    59099.431955  \n",
       "2012-01-15      170483.712958    67835.830854  \n",
       "2012-01-22      428620.726709    67665.808700  \n",
       "2012-01-29      200066.578641    60990.284709  "
      ]
     },
     "metadata": {},
     "output_type": "display_data"
    },
    {
     "name": "stdout",
     "output_type": "stream",
     "text": [
      "Monthly Data Table\n"
     ]
    },
    {
     "data": {
      "text/html": [
       "<div>\n",
       "<style scoped>\n",
       "    .dataframe tbody tr th:only-of-type {\n",
       "        vertical-align: middle;\n",
       "    }\n",
       "\n",
       "    .dataframe tbody tr th {\n",
       "        vertical-align: top;\n",
       "    }\n",
       "\n",
       "    .dataframe thead th {\n",
       "        text-align: right;\n",
       "    }\n",
       "</style>\n",
       "<table border=\"1\" class=\"dataframe\">\n",
       "  <thead>\n",
       "    <tr style=\"text-align: right;\">\n",
       "      <th></th>\n",
       "      <th>Open</th>\n",
       "      <th>High</th>\n",
       "      <th>Low</th>\n",
       "      <th>Close</th>\n",
       "      <th>Volume_(BTC)</th>\n",
       "      <th>Volume_(Currency)</th>\n",
       "      <th>Weighted_Price</th>\n",
       "    </tr>\n",
       "    <tr>\n",
       "      <th>Timestamp</th>\n",
       "      <th></th>\n",
       "      <th></th>\n",
       "      <th></th>\n",
       "      <th></th>\n",
       "      <th></th>\n",
       "      <th></th>\n",
       "      <th></th>\n",
       "    </tr>\n",
       "  </thead>\n",
       "  <tbody>\n",
       "    <tr>\n",
       "      <th>2011-12-31</th>\n",
       "      <td>4329.43</td>\n",
       "      <td>4329.50</td>\n",
       "      <td>4329.43</td>\n",
       "      <td>4329.50</td>\n",
       "      <td>7347.629953</td>\n",
       "      <td>3.297946e+04</td>\n",
       "      <td>4329.456411</td>\n",
       "    </tr>\n",
       "    <tr>\n",
       "      <th>2012-01-31</th>\n",
       "      <td>278348.77</td>\n",
       "      <td>278542.22</td>\n",
       "      <td>278184.76</td>\n",
       "      <td>278378.88</td>\n",
       "      <td>221227.366970</td>\n",
       "      <td>1.318110e+06</td>\n",
       "      <td>278328.128303</td>\n",
       "    </tr>\n",
       "    <tr>\n",
       "      <th>2012-02-29</th>\n",
       "      <td>218577.95</td>\n",
       "      <td>218602.87</td>\n",
       "      <td>218476.16</td>\n",
       "      <td>218501.10</td>\n",
       "      <td>298718.116997</td>\n",
       "      <td>1.550164e+06</td>\n",
       "      <td>218518.981605</td>\n",
       "    </tr>\n",
       "    <tr>\n",
       "      <th>2012-03-31</th>\n",
       "      <td>221451.87</td>\n",
       "      <td>221483.11</td>\n",
       "      <td>221126.36</td>\n",
       "      <td>221145.09</td>\n",
       "      <td>600648.959571</td>\n",
       "      <td>2.966107e+06</td>\n",
       "      <td>221338.868035</td>\n",
       "    </tr>\n",
       "    <tr>\n",
       "      <th>2012-04-30</th>\n",
       "      <td>215166.62</td>\n",
       "      <td>215223.08</td>\n",
       "      <td>215115.94</td>\n",
       "      <td>215170.64</td>\n",
       "      <td>809231.744106</td>\n",
       "      <td>4.003547e+06</td>\n",
       "      <td>215173.424768</td>\n",
       "    </tr>\n",
       "  </tbody>\n",
       "</table>\n",
       "</div>"
      ],
      "text/plain": [
       "                 Open       High        Low      Close   Volume_(BTC)  \\\n",
       "Timestamp                                                               \n",
       "2011-12-31    4329.43    4329.50    4329.43    4329.50    7347.629953   \n",
       "2012-01-31  278348.77  278542.22  278184.76  278378.88  221227.366970   \n",
       "2012-02-29  218577.95  218602.87  218476.16  218501.10  298718.116997   \n",
       "2012-03-31  221451.87  221483.11  221126.36  221145.09  600648.959571   \n",
       "2012-04-30  215166.62  215223.08  215115.94  215170.64  809231.744106   \n",
       "\n",
       "            Volume_(Currency)  Weighted_Price  \n",
       "Timestamp                                      \n",
       "2011-12-31       3.297946e+04     4329.456411  \n",
       "2012-01-31       1.318110e+06   278328.128303  \n",
       "2012-02-29       1.550164e+06   218518.981605  \n",
       "2012-03-31       2.966107e+06   221338.868035  \n",
       "2012-04-30       4.003547e+06   215173.424768  "
      ]
     },
     "metadata": {},
     "output_type": "display_data"
    },
    {
     "name": "stdout",
     "output_type": "stream",
     "text": [
      "Quarterly Data Table\n"
     ]
    },
    {
     "data": {
      "text/html": [
       "<div>\n",
       "<style scoped>\n",
       "    .dataframe tbody tr th:only-of-type {\n",
       "        vertical-align: middle;\n",
       "    }\n",
       "\n",
       "    .dataframe tbody tr th {\n",
       "        vertical-align: top;\n",
       "    }\n",
       "\n",
       "    .dataframe thead th {\n",
       "        text-align: right;\n",
       "    }\n",
       "</style>\n",
       "<table border=\"1\" class=\"dataframe\">\n",
       "  <thead>\n",
       "    <tr style=\"text-align: right;\">\n",
       "      <th></th>\n",
       "      <th>Open</th>\n",
       "      <th>High</th>\n",
       "      <th>Low</th>\n",
       "      <th>Close</th>\n",
       "      <th>Volume_(BTC)</th>\n",
       "      <th>Volume_(Currency)</th>\n",
       "      <th>Weighted_Price</th>\n",
       "    </tr>\n",
       "    <tr>\n",
       "      <th>Timestamp</th>\n",
       "      <th></th>\n",
       "      <th></th>\n",
       "      <th></th>\n",
       "      <th></th>\n",
       "      <th></th>\n",
       "      <th></th>\n",
       "      <th></th>\n",
       "    </tr>\n",
       "  </thead>\n",
       "  <tbody>\n",
       "    <tr>\n",
       "      <th>2011-12-31</th>\n",
       "      <td>4329.43</td>\n",
       "      <td>4329.50</td>\n",
       "      <td>4329.43</td>\n",
       "      <td>4329.50</td>\n",
       "      <td>7.347630e+03</td>\n",
       "      <td>3.297946e+04</td>\n",
       "      <td>4.329456e+03</td>\n",
       "    </tr>\n",
       "    <tr>\n",
       "      <th>2012-03-31</th>\n",
       "      <td>718378.59</td>\n",
       "      <td>718628.20</td>\n",
       "      <td>717787.28</td>\n",
       "      <td>718025.07</td>\n",
       "      <td>1.120594e+06</td>\n",
       "      <td>5.834381e+06</td>\n",
       "      <td>7.181860e+05</td>\n",
       "    </tr>\n",
       "    <tr>\n",
       "      <th>2012-06-30</th>\n",
       "      <td>698063.58</td>\n",
       "      <td>698207.86</td>\n",
       "      <td>697935.93</td>\n",
       "      <td>698074.75</td>\n",
       "      <td>2.441943e+06</td>\n",
       "      <td>1.313537e+07</td>\n",
       "      <td>6.980706e+05</td>\n",
       "    </tr>\n",
       "    <tr>\n",
       "      <th>2012-09-30</th>\n",
       "      <td>1328517.42</td>\n",
       "      <td>1328949.32</td>\n",
       "      <td>1328007.63</td>\n",
       "      <td>1328440.94</td>\n",
       "      <td>2.329107e+06</td>\n",
       "      <td>2.297687e+07</td>\n",
       "      <td>1.328501e+06</td>\n",
       "    </tr>\n",
       "    <tr>\n",
       "      <th>2012-12-31</th>\n",
       "      <td>1595668.48</td>\n",
       "      <td>1595916.88</td>\n",
       "      <td>1595298.67</td>\n",
       "      <td>1595543.57</td>\n",
       "      <td>2.540932e+06</td>\n",
       "      <td>3.079724e+07</td>\n",
       "      <td>1.595555e+06</td>\n",
       "    </tr>\n",
       "  </tbody>\n",
       "</table>\n",
       "</div>"
      ],
      "text/plain": [
       "                  Open        High         Low       Close  Volume_(BTC)  \\\n",
       "Timestamp                                                                  \n",
       "2011-12-31     4329.43     4329.50     4329.43     4329.50  7.347630e+03   \n",
       "2012-03-31   718378.59   718628.20   717787.28   718025.07  1.120594e+06   \n",
       "2012-06-30   698063.58   698207.86   697935.93   698074.75  2.441943e+06   \n",
       "2012-09-30  1328517.42  1328949.32  1328007.63  1328440.94  2.329107e+06   \n",
       "2012-12-31  1595668.48  1595916.88  1595298.67  1595543.57  2.540932e+06   \n",
       "\n",
       "            Volume_(Currency)  Weighted_Price  \n",
       "Timestamp                                      \n",
       "2011-12-31       3.297946e+04    4.329456e+03  \n",
       "2012-03-31       5.834381e+06    7.181860e+05  \n",
       "2012-06-30       1.313537e+07    6.980706e+05  \n",
       "2012-09-30       2.297687e+07    1.328501e+06  \n",
       "2012-12-31       3.079724e+07    1.595555e+06  "
      ]
     },
     "metadata": {},
     "output_type": "display_data"
    },
    {
     "name": "stdout",
     "output_type": "stream",
     "text": [
      "Yearly Data Table\n"
     ]
    },
    {
     "data": {
      "text/html": [
       "<div>\n",
       "<style scoped>\n",
       "    .dataframe tbody tr th:only-of-type {\n",
       "        vertical-align: middle;\n",
       "    }\n",
       "\n",
       "    .dataframe tbody tr th {\n",
       "        vertical-align: top;\n",
       "    }\n",
       "\n",
       "    .dataframe thead th {\n",
       "        text-align: right;\n",
       "    }\n",
       "</style>\n",
       "<table border=\"1\" class=\"dataframe\">\n",
       "  <thead>\n",
       "    <tr style=\"text-align: right;\">\n",
       "      <th></th>\n",
       "      <th>Open</th>\n",
       "      <th>High</th>\n",
       "      <th>Low</th>\n",
       "      <th>Close</th>\n",
       "      <th>Volume_(BTC)</th>\n",
       "      <th>Volume_(Currency)</th>\n",
       "      <th>Weighted_Price</th>\n",
       "    </tr>\n",
       "    <tr>\n",
       "      <th>Timestamp</th>\n",
       "      <th></th>\n",
       "      <th></th>\n",
       "      <th></th>\n",
       "      <th></th>\n",
       "      <th></th>\n",
       "      <th></th>\n",
       "      <th></th>\n",
       "    </tr>\n",
       "  </thead>\n",
       "  <tbody>\n",
       "    <tr>\n",
       "      <th>2011-12-31</th>\n",
       "      <td>4.329430e+03</td>\n",
       "      <td>4.329500e+03</td>\n",
       "      <td>4.329430e+03</td>\n",
       "      <td>4.329500e+03</td>\n",
       "      <td>7.347630e+03</td>\n",
       "      <td>3.297946e+04</td>\n",
       "      <td>4.329456e+03</td>\n",
       "    </tr>\n",
       "    <tr>\n",
       "      <th>2012-12-31</th>\n",
       "      <td>4.340628e+06</td>\n",
       "      <td>4.341702e+06</td>\n",
       "      <td>4.339030e+06</td>\n",
       "      <td>4.340084e+06</td>\n",
       "      <td>8.432576e+06</td>\n",
       "      <td>7.274385e+07</td>\n",
       "      <td>4.340312e+06</td>\n",
       "    </tr>\n",
       "    <tr>\n",
       "      <th>2013-12-31</th>\n",
       "      <td>9.851576e+07</td>\n",
       "      <td>9.864486e+07</td>\n",
       "      <td>9.837122e+07</td>\n",
       "      <td>9.851095e+07</td>\n",
       "      <td>7.398161e+06</td>\n",
       "      <td>1.685634e+09</td>\n",
       "      <td>9.850302e+07</td>\n",
       "    </tr>\n",
       "    <tr>\n",
       "      <th>2014-12-31</th>\n",
       "      <td>2.762352e+08</td>\n",
       "      <td>2.764400e+08</td>\n",
       "      <td>2.760253e+08</td>\n",
       "      <td>2.762399e+08</td>\n",
       "      <td>5.565059e+06</td>\n",
       "      <td>2.887941e+09</td>\n",
       "      <td>2.762266e+08</td>\n",
       "    </tr>\n",
       "    <tr>\n",
       "      <th>2015-12-31</th>\n",
       "      <td>1.413045e+08</td>\n",
       "      <td>1.413671e+08</td>\n",
       "      <td>1.412355e+08</td>\n",
       "      <td>1.413041e+08</td>\n",
       "      <td>6.368714e+06</td>\n",
       "      <td>1.769356e+09</td>\n",
       "      <td>1.412990e+08</td>\n",
       "    </tr>\n",
       "  </tbody>\n",
       "</table>\n",
       "</div>"
      ],
      "text/plain": [
       "                    Open          High           Low         Close  \\\n",
       "Timestamp                                                            \n",
       "2011-12-31  4.329430e+03  4.329500e+03  4.329430e+03  4.329500e+03   \n",
       "2012-12-31  4.340628e+06  4.341702e+06  4.339030e+06  4.340084e+06   \n",
       "2013-12-31  9.851576e+07  9.864486e+07  9.837122e+07  9.851095e+07   \n",
       "2014-12-31  2.762352e+08  2.764400e+08  2.760253e+08  2.762399e+08   \n",
       "2015-12-31  1.413045e+08  1.413671e+08  1.412355e+08  1.413041e+08   \n",
       "\n",
       "            Volume_(BTC)  Volume_(Currency)  Weighted_Price  \n",
       "Timestamp                                                    \n",
       "2011-12-31  7.347630e+03       3.297946e+04    4.329456e+03  \n",
       "2012-12-31  8.432576e+06       7.274385e+07    4.340312e+06  \n",
       "2013-12-31  7.398161e+06       1.685634e+09    9.850302e+07  \n",
       "2014-12-31  5.565059e+06       2.887941e+09    2.762266e+08  \n",
       "2015-12-31  6.368714e+06       1.769356e+09    1.412990e+08  "
      ]
     },
     "metadata": {},
     "output_type": "display_data"
    },
    {
     "name": "stdout",
     "output_type": "stream",
     "text": [
      "Annually Data Table\n"
     ]
    },
    {
     "data": {
      "text/html": [
       "<div>\n",
       "<style scoped>\n",
       "    .dataframe tbody tr th:only-of-type {\n",
       "        vertical-align: middle;\n",
       "    }\n",
       "\n",
       "    .dataframe tbody tr th {\n",
       "        vertical-align: top;\n",
       "    }\n",
       "\n",
       "    .dataframe thead th {\n",
       "        text-align: right;\n",
       "    }\n",
       "</style>\n",
       "<table border=\"1\" class=\"dataframe\">\n",
       "  <thead>\n",
       "    <tr style=\"text-align: right;\">\n",
       "      <th></th>\n",
       "      <th>Open</th>\n",
       "      <th>High</th>\n",
       "      <th>Low</th>\n",
       "      <th>Close</th>\n",
       "      <th>Volume_(BTC)</th>\n",
       "      <th>Volume_(Currency)</th>\n",
       "      <th>Weighted_Price</th>\n",
       "    </tr>\n",
       "    <tr>\n",
       "      <th>Timestamp</th>\n",
       "      <th></th>\n",
       "      <th></th>\n",
       "      <th></th>\n",
       "      <th></th>\n",
       "      <th></th>\n",
       "      <th></th>\n",
       "      <th></th>\n",
       "    </tr>\n",
       "  </thead>\n",
       "  <tbody>\n",
       "    <tr>\n",
       "      <th>2011-12-31</th>\n",
       "      <td>4.329430e+03</td>\n",
       "      <td>4.329500e+03</td>\n",
       "      <td>4.329430e+03</td>\n",
       "      <td>4.329500e+03</td>\n",
       "      <td>7.347630e+03</td>\n",
       "      <td>3.297946e+04</td>\n",
       "      <td>4.329456e+03</td>\n",
       "    </tr>\n",
       "    <tr>\n",
       "      <th>2012-12-31</th>\n",
       "      <td>4.340628e+06</td>\n",
       "      <td>4.341702e+06</td>\n",
       "      <td>4.339030e+06</td>\n",
       "      <td>4.340084e+06</td>\n",
       "      <td>8.432576e+06</td>\n",
       "      <td>7.274385e+07</td>\n",
       "      <td>4.340312e+06</td>\n",
       "    </tr>\n",
       "    <tr>\n",
       "      <th>2013-12-31</th>\n",
       "      <td>9.851576e+07</td>\n",
       "      <td>9.864486e+07</td>\n",
       "      <td>9.837122e+07</td>\n",
       "      <td>9.851095e+07</td>\n",
       "      <td>7.398161e+06</td>\n",
       "      <td>1.685634e+09</td>\n",
       "      <td>9.850302e+07</td>\n",
       "    </tr>\n",
       "    <tr>\n",
       "      <th>2014-12-31</th>\n",
       "      <td>2.762352e+08</td>\n",
       "      <td>2.764400e+08</td>\n",
       "      <td>2.760253e+08</td>\n",
       "      <td>2.762399e+08</td>\n",
       "      <td>5.565059e+06</td>\n",
       "      <td>2.887941e+09</td>\n",
       "      <td>2.762266e+08</td>\n",
       "    </tr>\n",
       "    <tr>\n",
       "      <th>2015-12-31</th>\n",
       "      <td>1.413045e+08</td>\n",
       "      <td>1.413671e+08</td>\n",
       "      <td>1.412355e+08</td>\n",
       "      <td>1.413041e+08</td>\n",
       "      <td>6.368714e+06</td>\n",
       "      <td>1.769356e+09</td>\n",
       "      <td>1.412990e+08</td>\n",
       "    </tr>\n",
       "  </tbody>\n",
       "</table>\n",
       "</div>"
      ],
      "text/plain": [
       "                    Open          High           Low         Close  \\\n",
       "Timestamp                                                            \n",
       "2011-12-31  4.329430e+03  4.329500e+03  4.329430e+03  4.329500e+03   \n",
       "2012-12-31  4.340628e+06  4.341702e+06  4.339030e+06  4.340084e+06   \n",
       "2013-12-31  9.851576e+07  9.864486e+07  9.837122e+07  9.851095e+07   \n",
       "2014-12-31  2.762352e+08  2.764400e+08  2.760253e+08  2.762399e+08   \n",
       "2015-12-31  1.413045e+08  1.413671e+08  1.412355e+08  1.413041e+08   \n",
       "\n",
       "            Volume_(BTC)  Volume_(Currency)  Weighted_Price  \n",
       "Timestamp                                                    \n",
       "2011-12-31  7.347630e+03       3.297946e+04    4.329456e+03  \n",
       "2012-12-31  8.432576e+06       7.274385e+07    4.340312e+06  \n",
       "2013-12-31  7.398161e+06       1.685634e+09    9.850302e+07  \n",
       "2014-12-31  5.565059e+06       2.887941e+09    2.762266e+08  \n",
       "2015-12-31  6.368714e+06       1.769356e+09    1.412990e+08  "
      ]
     },
     "metadata": {},
     "output_type": "display_data"
    }
   ],
   "source": [
    "# Before we can start performing analysis, we have to resample the datetime\n",
    "bitcoin_df_daily = bitcoin_df.resample('D').sum()\n",
    "print('Daily Data Table')\n",
    "display(bitcoin_df_daily.head())\n",
    "\n",
    "bitcoin_df_weekly = bitcoin_df.resample('W').sum()\n",
    "print('Weekly Data Table')\n",
    "display(bitcoin_df_weekly.head())\n",
    "\n",
    "bitcoin_df_monthly = bitcoin_df.resample('M').sum()\n",
    "print('Monthly Data Table')\n",
    "display(bitcoin_df_monthly.head())\n",
    "\n",
    "bitcoin_df_quarterly = bitcoin_df.resample('Q').sum()\n",
    "print('Quarterly Data Table')\n",
    "display(bitcoin_df_quarterly.head())\n",
    "\n",
    "bitcoin_df_yearly = bitcoin_df.resample('Y').sum()\n",
    "print('Yearly Data Table')\n",
    "display(bitcoin_df_yearly.head())\n",
    "\n",
    "bitcoin_df_annually = bitcoin_df.resample('A').sum()\n",
    "print('Annually Data Table')\n",
    "display(bitcoin_df_annually.head())"
   ]
  },
  {
   "cell_type": "code",
   "execution_count": 19,
   "metadata": {
    "scrolled": false
   },
   "outputs": [
    {
     "data": {
      "text/html": [
       "<div>\n",
       "<style scoped>\n",
       "    .dataframe tbody tr th:only-of-type {\n",
       "        vertical-align: middle;\n",
       "    }\n",
       "\n",
       "    .dataframe tbody tr th {\n",
       "        vertical-align: top;\n",
       "    }\n",
       "\n",
       "    .dataframe thead th {\n",
       "        text-align: right;\n",
       "    }\n",
       "</style>\n",
       "<table border=\"1\" class=\"dataframe\">\n",
       "  <thead>\n",
       "    <tr style=\"text-align: right;\">\n",
       "      <th></th>\n",
       "      <th>Open</th>\n",
       "      <th>High</th>\n",
       "      <th>Low</th>\n",
       "      <th>Close</th>\n",
       "      <th>Volume_(BTC)</th>\n",
       "      <th>Volume_(Currency)</th>\n",
       "      <th>Weighted_Price</th>\n",
       "    </tr>\n",
       "    <tr>\n",
       "      <th>Timestamp</th>\n",
       "      <th></th>\n",
       "      <th></th>\n",
       "      <th></th>\n",
       "      <th></th>\n",
       "      <th></th>\n",
       "      <th></th>\n",
       "      <th></th>\n",
       "    </tr>\n",
       "  </thead>\n",
       "  <tbody>\n",
       "    <tr>\n",
       "      <th>2011-12-31 07:52:00</th>\n",
       "      <td>4.39</td>\n",
       "      <td>4.39</td>\n",
       "      <td>4.39</td>\n",
       "      <td>4.39</td>\n",
       "      <td>0.455581</td>\n",
       "      <td>2.0</td>\n",
       "      <td>4.39</td>\n",
       "    </tr>\n",
       "    <tr>\n",
       "      <th>2011-12-31 07:53:00</th>\n",
       "      <td>4.39</td>\n",
       "      <td>4.39</td>\n",
       "      <td>4.39</td>\n",
       "      <td>4.39</td>\n",
       "      <td>0.455581</td>\n",
       "      <td>2.0</td>\n",
       "      <td>4.39</td>\n",
       "    </tr>\n",
       "    <tr>\n",
       "      <th>2011-12-31 07:54:00</th>\n",
       "      <td>4.39</td>\n",
       "      <td>4.39</td>\n",
       "      <td>4.39</td>\n",
       "      <td>4.39</td>\n",
       "      <td>0.455581</td>\n",
       "      <td>2.0</td>\n",
       "      <td>4.39</td>\n",
       "    </tr>\n",
       "    <tr>\n",
       "      <th>2011-12-31 07:55:00</th>\n",
       "      <td>4.39</td>\n",
       "      <td>4.39</td>\n",
       "      <td>4.39</td>\n",
       "      <td>4.39</td>\n",
       "      <td>0.455581</td>\n",
       "      <td>2.0</td>\n",
       "      <td>4.39</td>\n",
       "    </tr>\n",
       "    <tr>\n",
       "      <th>2011-12-31 07:56:00</th>\n",
       "      <td>4.39</td>\n",
       "      <td>4.39</td>\n",
       "      <td>4.39</td>\n",
       "      <td>4.39</td>\n",
       "      <td>0.455581</td>\n",
       "      <td>2.0</td>\n",
       "      <td>4.39</td>\n",
       "    </tr>\n",
       "  </tbody>\n",
       "</table>\n",
       "</div>"
      ],
      "text/plain": [
       "                     Open  High   Low  Close  Volume_(BTC)  Volume_(Currency)  \\\n",
       "Timestamp                                                                       \n",
       "2011-12-31 07:52:00  4.39  4.39  4.39   4.39      0.455581                2.0   \n",
       "2011-12-31 07:53:00  4.39  4.39  4.39   4.39      0.455581                2.0   \n",
       "2011-12-31 07:54:00  4.39  4.39  4.39   4.39      0.455581                2.0   \n",
       "2011-12-31 07:55:00  4.39  4.39  4.39   4.39      0.455581                2.0   \n",
       "2011-12-31 07:56:00  4.39  4.39  4.39   4.39      0.455581                2.0   \n",
       "\n",
       "                     Weighted_Price  \n",
       "Timestamp                            \n",
       "2011-12-31 07:52:00            4.39  \n",
       "2011-12-31 07:53:00            4.39  \n",
       "2011-12-31 07:54:00            4.39  \n",
       "2011-12-31 07:55:00            4.39  \n",
       "2011-12-31 07:56:00            4.39  "
      ]
     },
     "metadata": {},
     "output_type": "display_data"
    }
   ],
   "source": [
    "display(bitcoin_df.head())"
   ]
  },
  {
   "cell_type": "code",
   "execution_count": 20,
   "metadata": {
    "scrolled": true
   },
   "outputs": [
    {
     "data": {
      "text/html": [
       "<div>\n",
       "<style scoped>\n",
       "    .dataframe tbody tr th:only-of-type {\n",
       "        vertical-align: middle;\n",
       "    }\n",
       "\n",
       "    .dataframe tbody tr th {\n",
       "        vertical-align: top;\n",
       "    }\n",
       "\n",
       "    .dataframe thead th {\n",
       "        text-align: right;\n",
       "    }\n",
       "</style>\n",
       "<table border=\"1\" class=\"dataframe\">\n",
       "  <thead>\n",
       "    <tr style=\"text-align: right;\">\n",
       "      <th></th>\n",
       "      <th>Low</th>\n",
       "    </tr>\n",
       "    <tr>\n",
       "      <th>Timestamp</th>\n",
       "      <th></th>\n",
       "    </tr>\n",
       "  </thead>\n",
       "  <tbody>\n",
       "    <tr>\n",
       "      <th>2011-12-31</th>\n",
       "      <td>4329.43</td>\n",
       "    </tr>\n",
       "    <tr>\n",
       "      <th>2012-01-31</th>\n",
       "      <td>278184.76</td>\n",
       "    </tr>\n",
       "    <tr>\n",
       "      <th>2012-02-29</th>\n",
       "      <td>218476.16</td>\n",
       "    </tr>\n",
       "    <tr>\n",
       "      <th>2012-03-31</th>\n",
       "      <td>221126.36</td>\n",
       "    </tr>\n",
       "    <tr>\n",
       "      <th>2012-04-30</th>\n",
       "      <td>215115.94</td>\n",
       "    </tr>\n",
       "  </tbody>\n",
       "</table>\n",
       "</div>"
      ],
      "text/plain": [
       "                  Low\n",
       "Timestamp            \n",
       "2011-12-31    4329.43\n",
       "2012-01-31  278184.76\n",
       "2012-02-29  218476.16\n",
       "2012-03-31  221126.36\n",
       "2012-04-30  215115.94"
      ]
     },
     "execution_count": 20,
     "metadata": {},
     "output_type": "execute_result"
    }
   ],
   "source": [
    "low_df = bitcoin_df_monthly[['Low']]\n",
    "low_df.head()"
   ]
  },
  {
   "cell_type": "markdown",
   "metadata": {},
   "source": [
    "#### Split dataset into training and testing data for modelling"
   ]
  },
  {
   "cell_type": "code",
   "execution_count": 21,
   "metadata": {},
   "outputs": [],
   "source": [
    "# Split dataset for Training and testing dataset using the 80:20 rule\n",
    "\n",
    "size = int(len(low_df)*0.8)\n",
    "\n",
    "# train data\n",
    "data = low_df.iloc[:size]\n",
    "\n",
    "# Test data\n",
    "data_test = low_df.iloc[size:]"
   ]
  },
  {
   "cell_type": "code",
   "execution_count": 22,
   "metadata": {},
   "outputs": [
    {
     "data": {
      "text/html": [
       "<div>\n",
       "<style scoped>\n",
       "    .dataframe tbody tr th:only-of-type {\n",
       "        vertical-align: middle;\n",
       "    }\n",
       "\n",
       "    .dataframe tbody tr th {\n",
       "        vertical-align: top;\n",
       "    }\n",
       "\n",
       "    .dataframe thead th {\n",
       "        text-align: right;\n",
       "    }\n",
       "</style>\n",
       "<table border=\"1\" class=\"dataframe\">\n",
       "  <thead>\n",
       "    <tr style=\"text-align: right;\">\n",
       "      <th></th>\n",
       "      <th>Low</th>\n",
       "    </tr>\n",
       "    <tr>\n",
       "      <th>Timestamp</th>\n",
       "      <th></th>\n",
       "    </tr>\n",
       "  </thead>\n",
       "  <tbody>\n",
       "    <tr>\n",
       "      <th>2011-12-31</th>\n",
       "      <td>4329.43</td>\n",
       "    </tr>\n",
       "    <tr>\n",
       "      <th>2012-01-31</th>\n",
       "      <td>278184.76</td>\n",
       "    </tr>\n",
       "    <tr>\n",
       "      <th>2012-02-29</th>\n",
       "      <td>218476.16</td>\n",
       "    </tr>\n",
       "    <tr>\n",
       "      <th>2012-03-31</th>\n",
       "      <td>221126.36</td>\n",
       "    </tr>\n",
       "    <tr>\n",
       "      <th>2012-04-30</th>\n",
       "      <td>215115.94</td>\n",
       "    </tr>\n",
       "  </tbody>\n",
       "</table>\n",
       "</div>"
      ],
      "text/plain": [
       "                  Low\n",
       "Timestamp            \n",
       "2011-12-31    4329.43\n",
       "2012-01-31  278184.76\n",
       "2012-02-29  218476.16\n",
       "2012-03-31  221126.36\n",
       "2012-04-30  215115.94"
      ]
     },
     "execution_count": 22,
     "metadata": {},
     "output_type": "execute_result"
    }
   ],
   "source": [
    "data.head()"
   ]
  },
  {
   "cell_type": "code",
   "execution_count": 23,
   "metadata": {},
   "outputs": [
    {
     "data": {
      "text/html": [
       "<div>\n",
       "<style scoped>\n",
       "    .dataframe tbody tr th:only-of-type {\n",
       "        vertical-align: middle;\n",
       "    }\n",
       "\n",
       "    .dataframe tbody tr th {\n",
       "        vertical-align: top;\n",
       "    }\n",
       "\n",
       "    .dataframe thead th {\n",
       "        text-align: right;\n",
       "    }\n",
       "</style>\n",
       "<table border=\"1\" class=\"dataframe\">\n",
       "  <thead>\n",
       "    <tr style=\"text-align: right;\">\n",
       "      <th></th>\n",
       "      <th>Low</th>\n",
       "    </tr>\n",
       "    <tr>\n",
       "      <th>Timestamp</th>\n",
       "      <th></th>\n",
       "    </tr>\n",
       "  </thead>\n",
       "  <tbody>\n",
       "    <tr>\n",
       "      <th>2020-05-31</th>\n",
       "      <td>4.120433e+08</td>\n",
       "    </tr>\n",
       "    <tr>\n",
       "      <th>2020-06-30</th>\n",
       "      <td>4.085089e+08</td>\n",
       "    </tr>\n",
       "    <tr>\n",
       "      <th>2020-07-31</th>\n",
       "      <td>4.259649e+08</td>\n",
       "    </tr>\n",
       "    <tr>\n",
       "      <th>2020-08-31</th>\n",
       "      <td>5.192346e+08</td>\n",
       "    </tr>\n",
       "    <tr>\n",
       "      <th>2020-09-30</th>\n",
       "      <td>1.975607e+08</td>\n",
       "    </tr>\n",
       "  </tbody>\n",
       "</table>\n",
       "</div>"
      ],
      "text/plain": [
       "                     Low\n",
       "Timestamp               \n",
       "2020-05-31  4.120433e+08\n",
       "2020-06-30  4.085089e+08\n",
       "2020-07-31  4.259649e+08\n",
       "2020-08-31  5.192346e+08\n",
       "2020-09-30  1.975607e+08"
      ]
     },
     "execution_count": 23,
     "metadata": {},
     "output_type": "execute_result"
    }
   ],
   "source": [
    "data_test.tail()"
   ]
  },
  {
   "cell_type": "markdown",
   "metadata": {},
   "source": [
    "#### Removing White Noise"
   ]
  },
  {
   "cell_type": "code",
   "execution_count": 24,
   "metadata": {},
   "outputs": [],
   "source": [
    "# The white niose in every data, are the random values that cann't be predicted\n",
    "# Create the white noise variable\n",
    "\n",
    "wn = np.random.normal(loc = data['Low'].mean(), scale = data['Low'].std(), size= len(data))"
   ]
  },
  {
   "cell_type": "code",
   "execution_count": 25,
   "metadata": {},
   "outputs": [
    {
     "name": "stderr",
     "output_type": "stream",
     "text": [
      "C:\\ProgramData\\Anaconda3\\lib\\site-packages\\ipykernel_launcher.py:2: SettingWithCopyWarning: \n",
      "A value is trying to be set on a copy of a slice from a DataFrame.\n",
      "Try using .loc[row_indexer,col_indexer] = value instead\n",
      "\n",
      "See the caveats in the documentation: http://pandas.pydata.org/pandas-docs/stable/indexing.html#indexing-view-versus-copy\n",
      "  \n"
     ]
    }
   ],
   "source": [
    "# lets add the white niose as a column to the data frame and describe the data for comparison\n",
    "data['wn'] = wn"
   ]
  },
  {
   "cell_type": "code",
   "execution_count": 26,
   "metadata": {},
   "outputs": [
    {
     "data": {
      "text/html": [
       "<div>\n",
       "<style scoped>\n",
       "    .dataframe tbody tr th:only-of-type {\n",
       "        vertical-align: middle;\n",
       "    }\n",
       "\n",
       "    .dataframe tbody tr th {\n",
       "        vertical-align: top;\n",
       "    }\n",
       "\n",
       "    .dataframe thead th {\n",
       "        text-align: right;\n",
       "    }\n",
       "</style>\n",
       "<table border=\"1\" class=\"dataframe\">\n",
       "  <thead>\n",
       "    <tr style=\"text-align: right;\">\n",
       "      <th></th>\n",
       "      <th>Low</th>\n",
       "      <th>wn</th>\n",
       "    </tr>\n",
       "    <tr>\n",
       "      <th>Timestamp</th>\n",
       "      <th></th>\n",
       "      <th></th>\n",
       "    </tr>\n",
       "  </thead>\n",
       "  <tbody>\n",
       "    <tr>\n",
       "      <th>2011-12-31</th>\n",
       "      <td>4329.43</td>\n",
       "      <td>-1.882313e+08</td>\n",
       "    </tr>\n",
       "    <tr>\n",
       "      <th>2012-01-31</th>\n",
       "      <td>278184.76</td>\n",
       "      <td>-5.597761e+07</td>\n",
       "    </tr>\n",
       "    <tr>\n",
       "      <th>2012-02-29</th>\n",
       "      <td>218476.16</td>\n",
       "      <td>-2.982558e+07</td>\n",
       "    </tr>\n",
       "    <tr>\n",
       "      <th>2012-03-31</th>\n",
       "      <td>221126.36</td>\n",
       "      <td>8.307806e+07</td>\n",
       "    </tr>\n",
       "    <tr>\n",
       "      <th>2012-04-30</th>\n",
       "      <td>215115.94</td>\n",
       "      <td>-5.750710e+07</td>\n",
       "    </tr>\n",
       "  </tbody>\n",
       "</table>\n",
       "</div>"
      ],
      "text/plain": [
       "                  Low            wn\n",
       "Timestamp                          \n",
       "2011-12-31    4329.43 -1.882313e+08\n",
       "2012-01-31  278184.76 -5.597761e+07\n",
       "2012-02-29  218476.16 -2.982558e+07\n",
       "2012-03-31  221126.36  8.307806e+07\n",
       "2012-04-30  215115.94 -5.750710e+07"
      ]
     },
     "metadata": {},
     "output_type": "display_data"
    }
   ],
   "source": [
    "display(data.head())"
   ]
  },
  {
   "cell_type": "code",
   "execution_count": 27,
   "metadata": {},
   "outputs": [
    {
     "data": {
      "text/html": [
       "<div>\n",
       "<style scoped>\n",
       "    .dataframe tbody tr th:only-of-type {\n",
       "        vertical-align: middle;\n",
       "    }\n",
       "\n",
       "    .dataframe tbody tr th {\n",
       "        vertical-align: top;\n",
       "    }\n",
       "\n",
       "    .dataframe thead th {\n",
       "        text-align: right;\n",
       "    }\n",
       "</style>\n",
       "<table border=\"1\" class=\"dataframe\">\n",
       "  <thead>\n",
       "    <tr style=\"text-align: right;\">\n",
       "      <th></th>\n",
       "      <th>Low</th>\n",
       "      <th>wn</th>\n",
       "    </tr>\n",
       "  </thead>\n",
       "  <tbody>\n",
       "    <tr>\n",
       "      <th>count</th>\n",
       "      <td>8.400000e+01</td>\n",
       "      <td>8.400000e+01</td>\n",
       "    </tr>\n",
       "    <tr>\n",
       "      <th>mean</th>\n",
       "      <td>7.951247e+07</td>\n",
       "      <td>5.375465e+07</td>\n",
       "    </tr>\n",
       "    <tr>\n",
       "      <th>std</th>\n",
       "      <td>1.380348e+08</td>\n",
       "      <td>1.223059e+08</td>\n",
       "    </tr>\n",
       "    <tr>\n",
       "      <th>min</th>\n",
       "      <td>4.329430e+03</td>\n",
       "      <td>-2.389687e+08</td>\n",
       "    </tr>\n",
       "    <tr>\n",
       "      <th>25%</th>\n",
       "      <td>5.470213e+06</td>\n",
       "      <td>-2.633384e+07</td>\n",
       "    </tr>\n",
       "    <tr>\n",
       "      <th>50%</th>\n",
       "      <td>1.903739e+07</td>\n",
       "      <td>5.411363e+07</td>\n",
       "    </tr>\n",
       "    <tr>\n",
       "      <th>75%</th>\n",
       "      <td>4.465734e+07</td>\n",
       "      <td>1.482545e+08</td>\n",
       "    </tr>\n",
       "    <tr>\n",
       "      <th>max</th>\n",
       "      <td>6.613359e+08</td>\n",
       "      <td>3.681477e+08</td>\n",
       "    </tr>\n",
       "  </tbody>\n",
       "</table>\n",
       "</div>"
      ],
      "text/plain": [
       "                Low            wn\n",
       "count  8.400000e+01  8.400000e+01\n",
       "mean   7.951247e+07  5.375465e+07\n",
       "std    1.380348e+08  1.223059e+08\n",
       "min    4.329430e+03 -2.389687e+08\n",
       "25%    5.470213e+06 -2.633384e+07\n",
       "50%    1.903739e+07  5.411363e+07\n",
       "75%    4.465734e+07  1.482545e+08\n",
       "max    6.613359e+08  3.681477e+08"
      ]
     },
     "execution_count": 27,
     "metadata": {},
     "output_type": "execute_result"
    }
   ],
   "source": [
    "round(data.describe(), 3)"
   ]
  },
  {
   "cell_type": "code",
   "execution_count": 28,
   "metadata": {},
   "outputs": [
    {
     "name": "stderr",
     "output_type": "stream",
     "text": [
      "C:\\ProgramData\\Anaconda3\\lib\\site-packages\\pandas\\plotting\\_converter.py:129: FutureWarning: Using an implicitly registered datetime converter for a matplotlib plotting method. The converter was registered by pandas on import. Future versions of pandas will require you to explicitly register matplotlib converters.\n",
      "\n",
      "To register the converters:\n",
      "\t>>> from pandas.plotting import register_matplotlib_converters\n",
      "\t>>> register_matplotlib_converters()\n",
      "  warnings.warn(msg, FutureWarning)\n"
     ]
    },
    {
     "data": {
      "image/png": "[encoded data removed]",
      "text/plain": [
       "<Figure size 1080x360 with 1 Axes>"
      ]
     },
     "metadata": {
      "needs_background": "light"
     },
     "output_type": "display_data"
    }
   ],
   "source": [
    "# Visualise the white noise value\n",
    "plt.figure(figsize=(15,5))\n",
    "plt.plot(data.index, data['wn'])\n",
    "plt.title('White Noise Time Series', size= 20)\n",
    "plt.show()"
   ]
  },
  {
   "cell_type": "code",
   "execution_count": 29,
   "metadata": {},
   "outputs": [
    {
     "data": {
      "image/png": "[encoded data removed]",
      "text/plain": [
       "<Figure size 1080x360 with 1 Axes>"
      ]
     },
     "metadata": {
      "needs_background": "light"
     },
     "output_type": "display_data"
    }
   ],
   "source": [
    "# Visualise the Low value\n",
    "plt.figure(figsize=(15,5))\n",
    "plt.plot(data.index, data['Low'])\n",
    "plt.title('Low Values Time Series', size= 20)\n",
    "plt.show()"
   ]
  },
  {
   "cell_type": "code",
   "execution_count": 30,
   "metadata": {},
   "outputs": [
    {
     "data": {
      "image/png": "[encoded data removed]",
      "text/plain": [
       "<Figure size 1080x360 with 1 Axes>"
      ]
     },
     "metadata": {
      "needs_background": "light"
     },
     "output_type": "display_data"
    }
   ],
   "source": [
    "# Visualise both column\n",
    "\n",
    "plt.figure(figsize=(15,5))\n",
    "data['Low'].plot(color= 'blue')\n",
    "data['wn'].plot(color= 'red')\n",
    "plt.title('Compare the White Noise with Low Values', size=20)\n",
    "plt.show()"
   ]
  },
  {
   "cell_type": "markdown",
   "metadata": {},
   "source": [
    "### Identifying Stationarity in the data. \n",
    "Carrying the Dickey Test will help us sort this out."
   ]
  },
  {
   "cell_type": "code",
   "execution_count": 31,
   "metadata": {},
   "outputs": [
    {
     "name": "stdout",
     "output_type": "stream",
     "text": [
      "Result from dickey-test\n",
      "Test Statistics           -1.435954\n",
      "P-Value                    0.564923\n",
      "#Lags Used                 0.000000\n",
      "# of Observations Used    83.000000\n",
      "Critical value (1%)       -3.511712\n",
      "Critical value (5%)       -2.897048\n",
      "Critical value (10%)      -2.585713\n",
      "dtype: float64\n"
     ]
    }
   ],
   "source": [
    "from statsmodels.tsa.stattools import adfuller\n",
    "\n",
    "print('Result from dickey-test')\n",
    "dickeytest = adfuller(data['Low'], autolag='AIC')\n",
    "\n",
    "dickeytest_output = pd.Series(dickeytest[0:4], index=['Test Statistics', 'P-Value', '#Lags Used', '# of Observations Used'])\n",
    "\n",
    "for key,value in dickeytest[4].items():\n",
    "    dickeytest_output['Critical value (%s)' %key] = value\n",
    "    \n",
    "print(dickeytest_output)"
   ]
  },
  {
   "cell_type": "markdown",
   "metadata": {},
   "source": [
    "Based on the P-value, there is more than 56% chance that the data comes from a non stationary process with zero lags, which is abit OK. But Lets check the white Noise data for stationarity as well."
   ]
  },
  {
   "cell_type": "code",
   "execution_count": 32,
   "metadata": {},
   "outputs": [
    {
     "name": "stdout",
     "output_type": "stream",
     "text": [
      "Result from dickey-test\n",
      "Test Statistics          -8.810267e+00\n",
      "P-Value                   2.000118e-14\n",
      "#Lags Used                0.000000e+00\n",
      "# of Observations Used    8.300000e+01\n",
      "Critical value (1%)      -3.511712e+00\n",
      "Critical value (5%)      -2.897048e+00\n",
      "Critical value (10%)     -2.585713e+00\n",
      "dtype: float64\n"
     ]
    }
   ],
   "source": [
    "print('Result from dickey-test')\n",
    "dickeytest = adfuller(data['wn'], autolag='AIC')\n",
    "\n",
    "dickeytest_output = pd.Series(dickeytest[0:4], index=['Test Statistics', 'P-Value', '#Lags Used', '# of Observations Used'])\n",
    "\n",
    "for key,value in dickeytest[4].items():\n",
    "    dickeytest_output['Critical value (%s)' %key] = value\n",
    "    \n",
    "print(dickeytest_output)"
   ]
  },
  {
   "cell_type": "markdown",
   "metadata": {},
   "source": [
    "The P-value here is pretty Low which signifies a better stationarity data process"
   ]
  },
  {
   "cell_type": "markdown",
   "metadata": {},
   "source": [
    "### Decomposition"
   ]
  },
  {
   "cell_type": "code",
   "execution_count": 33,
   "metadata": {},
   "outputs": [
    {
     "data": {
      "image/png": "[encoded data removed]",
      "text/plain": [
       "<Figure size 432x288 with 4 Axes>"
      ]
     },
     "metadata": {
      "needs_background": "light"
     },
     "output_type": "display_data"
    }
   ],
   "source": [
    "from statsmodels.tsa.seasonal import seasonal_decompose\n",
    "\n",
    "# Using the Additive method\n",
    "sec_dec_additive = seasonal_decompose(data['Low'], model='additive')\n",
    "\n",
    "\n",
    "sec_dec_additive.plot()\n",
    "plt.show()"
   ]
  },
  {
   "cell_type": "markdown",
   "metadata": {},
   "source": [
    "There is no seasonality since there is no concrete cyclic pttern. Since the trend follows the actual data closely, we will look at the correlations between past and present values."
   ]
  },
  {
   "cell_type": "markdown",
   "metadata": {},
   "source": [
    "### Autocorrelation"
   ]
  },
  {
   "cell_type": "code",
   "execution_count": 34,
   "metadata": {},
   "outputs": [
    {
     "data": {
      "image/png": "[encoded data removed]",
      "text/plain": [
       "<Figure size 432x288 with 1 Axes>"
      ]
     },
     "metadata": {
      "needs_background": "light"
     },
     "output_type": "display_data"
    }
   ],
   "source": [
    "import statsmodels.graphics.tsaplots as sgt\n",
    "\n",
    "sgt.plot_acf(data['Low'], lags = 40, zero = False)\n",
    "plt.title('ACF of Low', size = 20)\n",
    "plt.show()"
   ]
  },
  {
   "cell_type": "markdown",
   "metadata": {},
   "source": [
    "we can see that as the lags increases, the coefficient decreases. We can see that only the first 7 lags are significant ie those outside the blue area. This means autocorrelation only exist within that period. This seems to suggest that only the first 7 lags can be used as good estimators"
   ]
  },
  {
   "cell_type": "code",
   "execution_count": 35,
   "metadata": {},
   "outputs": [
    {
     "data": {
      "image/png": "[encoded data removed]",
      "text/plain": [
       "<Figure size 432x288 with 1 Axes>"
      ]
     },
     "metadata": {
      "needs_background": "light"
     },
     "output_type": "display_data"
    }
   ],
   "source": [
    "sgt.plot_acf(data['wn'], lags = 40, zero = False)\n",
    "plt.title('ACF of WN', size = 20)\n",
    "plt.show()"
   ]
  },
  {
   "cell_type": "markdown",
   "metadata": {},
   "source": [
    "from the graph above, we can see that there are no autocorrelation at all since all the coefficient are within the blue area."
   ]
  },
  {
   "cell_type": "markdown",
   "metadata": {},
   "source": [
    "### Partial Autocorrelation (PACF)"
   ]
  },
  {
   "cell_type": "code",
   "execution_count": 38,
   "metadata": {},
   "outputs": [
    {
     "data": {
      "image/png": "[encoded data removed]",
      "text/plain": [
       "<Figure size 432x288 with 1 Axes>"
      ]
     },
     "metadata": {
      "needs_background": "light"
     },
     "output_type": "display_data"
    }
   ],
   "source": [
    "sgt.plot_pacf(data['Low'], lags = 40, zero = False, method = ('ols'))\n",
    "plt.title('PACF of Low', size = 20)\n",
    "plt.show()"
   ]
  }
 ],
 "metadata": {
  "kernelspec": {
   "display_name": "Python 3",
   "language": "python",
   "name": "python3"
  },
  "language_info": {
   "codemirror_mode": {
    "name": "ipython",
    "version": 3
   },
   "file_extension": ".py",
   "mimetype": "text/x-python",
   "name": "python",
   "nbconvert_exporter": "python",
   "pygments_lexer": "ipython3",
   "version": "3.7.3"
  }
 },
 "nbformat": 4,
 "nbformat_minor": 2
}
